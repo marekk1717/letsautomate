{
  "nbformat": 4,
  "nbformat_minor": 0,
  "metadata": {
    "colab": {
      "name": "Commvault_Python_SDK.ipynb",
      "provenance": [],
      "authorship_tag": "ABX9TyPShGw2NJcf44Ul/4sZq2WU",
      "include_colab_link": true
    },
    "kernelspec": {
      "name": "python3",
      "display_name": "Python 3"
    }
  },
  "cells": [
    {
      "cell_type": "markdown",
      "metadata": {
        "id": "view-in-github",
        "colab_type": "text"
      },
      "source": [
        "<a href=\"https://colab.research.google.com/github/marekk1717/letsautomate/blob/master/Commvault_Python_SDK.ipynb\" target=\"_parent\"><img src=\"https://colab.research.google.com/assets/colab-badge.svg\" alt=\"Open In Colab\"/></a>"
      ]
    },
    {
      "cell_type": "markdown",
      "metadata": {
        "id": "111J-qy9D9oe",
        "colab_type": "text"
      },
      "source": [
        "Installation of cvpysdk and required dependencies"
      ]
    },
    {
      "cell_type": "code",
      "metadata": {
        "id": "4NGXi5RlEEKL",
        "colab_type": "code",
        "colab": {}
      },
      "source": [
        "!pip install xmltodict future requests\n",
        "!pip install git+https://github.com/CommvaultEngg/cvpysdk.git@dev"
      ],
      "execution_count": 0,
      "outputs": []
    },
    {
      "cell_type": "code",
      "metadata": {
        "id": "wbNta-OnFvoN",
        "colab_type": "code",
        "colab": {}
      },
      "source": [
        "from cvpysdk.commcell import Commcell"
      ],
      "execution_count": 0,
      "outputs": []
    },
    {
      "cell_type": "markdown",
      "metadata": {
        "id": "NEgH2SnTFXyX",
        "colab_type": "text"
      },
      "source": [
        "jj"
      ]
    },
    {
      "cell_type": "code",
      "metadata": {
        "id": "3QPgQIEnFZBw",
        "colab_type": "code",
        "colab": {}
      },
      "source": [
        "WEBCONSOLE_URL = 'democommserve.commvault.com'\n",
        "COMMCELL_USERNAME = 'mkedzierski'\n",
        "COMMCELL_PASSWORD = 'Commvault!2'"
      ],
      "execution_count": 0,
      "outputs": []
    },
    {
      "cell_type": "markdown",
      "metadata": {
        "id": "m18gKgSzFrG6",
        "colab_type": "text"
      },
      "source": [
        "Connect to [WebConsole](https://democommserve.commvault.com)"
      ]
    },
    {
      "cell_type": "code",
      "metadata": {
        "id": "aoGu1FW5FrPe",
        "colab_type": "code",
        "colab": {
          "base_uri": "https://localhost:8080/",
          "height": 34
        },
        "outputId": "8ebc345b-faad-4758-835d-3d916a692d97"
      },
      "source": [
        "commcell = Commcell(webconsole_hostname=WEBCONSOLE_URL, commcell_username=COMMCELL_USERNAME, commcell_password=COMMCELL_PASSWORD)\n",
        "print('Connected to ' + commcell.commserv_hostname + ', Version: v11SP' + str(commcell.commserv_version))"
      ],
      "execution_count": 10,
      "outputs": [
        {
          "output_type": "stream",
          "text": [
            "Connected to COMMSERVE.cv.lab, Version: v11SP18\n"
          ],
          "name": "stdout"
        }
      ]
    }
  ]
}