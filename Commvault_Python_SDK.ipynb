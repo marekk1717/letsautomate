{
  "nbformat": 4,
  "nbformat_minor": 0,
  "metadata": {
    "colab": {
      "name": "Commvault_Python_SDK.ipynb",
      "provenance": [],
      "authorship_tag": "ABX9TyOLZ6/e3lr1KGBkIW18n0Pd",
      "include_colab_link": true
    },
    "kernelspec": {
      "name": "python3",
      "display_name": "Python 3"
    }
  },
  "cells": [
    {
      "cell_type": "markdown",
      "metadata": {
        "id": "view-in-github",
        "colab_type": "text"
      },
      "source": [
        "<a href=\"https://colab.research.google.com/github/marekk1717/letsautomate/blob/master/Commvault_Python_SDK.ipynb\" target=\"_parent\"><img src=\"https://colab.research.google.com/assets/colab-badge.svg\" alt=\"Open In Colab\"/></a>"
      ]
    },
    {
      "cell_type": "markdown",
      "metadata": {
        "id": "111J-qy9D9oe",
        "colab_type": "text"
      },
      "source": [
        "\n",
        "## **Installation of cvpysdk and required dependencies**"
      ]
    },
    {
      "cell_type": "code",
      "metadata": {
        "id": "4NGXi5RlEEKL",
        "colab_type": "code",
        "colab": {}
      },
      "source": [
        "!pip install xmltodict future requests beautifultable\n",
        "!pip install git+https://github.com/CommvaultEngg/cvpysdk.git@dev"
      ],
      "execution_count": 0,
      "outputs": []
    },
    {
      "cell_type": "code",
      "metadata": {
        "id": "wbNta-OnFvoN",
        "colab_type": "code",
        "colab": {}
      },
      "source": [
        "from cvpysdk.commcell import Commcell\n",
        "import getpass\n",
        "import json\n",
        "from beautifultable import BeautifulTable\n",
        "import pandas as pd\n",
        "import random"
      ],
      "execution_count": 0,
      "outputs": []
    },
    {
      "cell_type": "markdown",
      "metadata": {
        "id": "m18gKgSzFrG6",
        "colab_type": "text"
      },
      "source": [
        "\n",
        "\n",
        "---\n",
        "<br><br>\n",
        "## **Connect to WebConsole**"
      ]
    },
    {
      "cell_type": "code",
      "metadata": {
        "id": "aoGu1FW5FrPe",
        "colab_type": "code",
        "outputId": "da1b4d32-7f72-4433-d24a-9415f32426c2",
        "colab": {
          "base_uri": "https://localhost:8080/",
          "height": 34
        }
      },
      "source": [
        "WEBCONSOLE_URL = input('WebConsole URL: ')\n",
        "COMMCELL_USERNAME = input('Username: ')\n",
        "COMMCELL_PASSWORD = getpass.getpass(prompt='Password: ')\n",
        "\n",
        "commcell = Commcell(webconsole_hostname=WEBCONSOLE_URL, commcell_username=COMMCELL_USERNAME, commcell_password=COMMCELL_PASSWORD)\n",
        "print('Connected to ' + commcell.commserv_hostname + ', Version: v11SP' + str(commcell.commserv_version))"
      ],
      "execution_count": 17,
      "outputs": [
        {
          "output_type": "stream",
          "text": [
            "Connected to COMMSERVE.cv.lab, Version: v11SP18\n"
          ],
          "name": "stdout"
        }
      ]
    },
    {
      "cell_type": "markdown",
      "metadata": {
        "id": "X32FcziM9JHW",
        "colab_type": "text"
      },
      "source": [
        "\n",
        "\n",
        "---\n",
        "<br><br>\n",
        "\n",
        "## **List of active backup jobs**"
      ]
    },
    {
      "cell_type": "code",
      "metadata": {
        "id": "vVC0JME8KDsM",
        "colab_type": "code",
        "outputId": "4bc9ea5a-56ec-46c5-86ee-bd4b77a97f17",
        "colab": {
          "base_uri": "https://localhost:8080/",
          "height": 374
        }
      },
      "source": [
        "active_backup_jobs = commcell.job_controller.active_jobs(limit=1000, job_filter='Backup', job_summary='Full')\n",
        "table = BeautifulTable(max_width=300)\n",
        "table.column_headers = [\"JOB ID\", \"Client\", \"AppType\", \"% Complete\", 'AppSize (GB)']\n",
        "for job in active_backup_jobs:\n",
        "  table.append_row([job, active_backup_jobs[job]['destinationClient']['clientName'], active_backup_jobs[job]['appTypeName'], \n",
        "                    active_backup_jobs[job]['percentComplete'], active_backup_jobs[job]['sizeOfApplication']/1024/1024/1024])\n",
        "print(table)"
      ],
      "execution_count": 57,
      "outputs": [
        {
          "output_type": "stream",
          "text": [
            "+--------+----------------------------+------------------+------------+--------------+\n",
            "| JOB ID |           Client           |     AppType      | % Complete | AppSize (GB) |\n",
            "+--------+----------------------------+------------------+------------+--------------+\n",
            "| 300072 |       FileServerData       |   File System    |     25     |     0.0      |\n",
            "+--------+----------------------------+------------------+------------+--------------+\n",
            "| 300053 |         exchange2          |   File System    |     34     |    3.234     |\n",
            "+--------+----------------------------+------------------+------------+--------------+\n",
            "| 300015 |       Vcenter_OnPrem       |  Virtual Server  |     0      |     0.0      |\n",
            "+--------+----------------------------+------------------+------------+--------------+\n",
            "| 299999 |          vmlinux           |   File System    |     0      |     0.0      |\n",
            "+--------+----------------------------+------------------+------------+--------------+\n",
            "| 299996 |       ExchangeHybrid       | Exchange Mailbox |     0      |     0.0      |\n",
            "+--------+----------------------------+------------------+------------+--------------+\n",
            "| 299993 |           sqlec2           |   File System    |     0      |     0.0      |\n",
            "+--------+----------------------------+------------------+------------+--------------+\n",
            "| 299836 | Googlebase_30d_IndexServer |  Big Data Apps   |     0      |     0.0      |\n",
            "+--------+----------------------------+------------------+------------+--------------+\n",
            "| 297793 |         Rockhopper         |    PostgreSQL    |     0      |     0.0      |\n",
            "+--------+----------------------------+------------------+------------+--------------+\n",
            "| 297792 |           Oswald           |      MySQL       |     0      |     0.0      |\n",
            "+--------+----------------------------+------------------+------------+--------------+\n"
          ],
          "name": "stdout"
        }
      ]
    },
    {
      "cell_type": "markdown",
      "metadata": {
        "id": "7BSsOE1yWQ7z",
        "colab_type": "text"
      },
      "source": [
        "---\n",
        "<br><br>\n",
        "## **Completed backup jobs (1h)**"
      ]
    },
    {
      "cell_type": "code",
      "metadata": {
        "id": "4MxPuoMSWRIi",
        "colab_type": "code",
        "colab": {
          "base_uri": "https://localhost:8080/",
          "height": 714
        },
        "outputId": "2cd041dd-b7bc-42dd-e7c1-0ff2f3fc4e59"
      },
      "source": [
        "completed_backup_jobs = commcell.job_controller.finished_jobs(limit=1000, job_filter='Backup', job_summary='Full', lookup_time=1)\n",
        "table = BeautifulTable(max_width=300)\n",
        "table.column_headers = [\"JOB ID\", \"Client\", \"AppType\", 'AppSize (GB)', 'Media Size (GB)', 'Status']\n",
        "for job in completed_backup_jobs:\n",
        "  table.append_row([job, completed_backup_jobs[job]['destinationClient']['clientName'], completed_backup_jobs[job]['appTypeName'], \n",
        "                    completed_backup_jobs[job]['sizeOfApplication']/1024/1024/1024, completed_backup_jobs[job]['sizeOfMediaOnDisk']/1024/1024/1024, \n",
        "                    completed_backup_jobs[job]['status']])\n",
        "print(table)"
      ],
      "execution_count": 58,
      "outputs": [
        {
          "output_type": "stream",
          "text": [
            "+--------+-----------------+------------------+--------------+-----------------+-----------------+\n",
            "| JOB ID |     Client      |     AppType      | AppSize (GB) | Media Size (GB) |     Status      |\n",
            "+--------+-----------------+------------------+--------------+-----------------+-----------------+\n",
            "| 300071 |     search      |   File System    |    0.222     |      0.009      |    Completed    |\n",
            "+--------+-----------------+------------------+--------------+-----------------+-----------------+\n",
            "| 300070 |    commserve    |   File System    |     0.0      |       0.0       |    Completed    |\n",
            "+--------+-----------------+------------------+--------------+-----------------+-----------------+\n",
            "| 300069 |    commserve    | Active Directory |     0.0      |      0.001      |    Completed    |\n",
            "+--------+-----------------+------------------+--------------+-----------------+-----------------+\n",
            "| 300068 |  CVDemo-Gdrive  |    Cloud Apps    |     0.0      |       0.0       |    Completed    |\n",
            "+--------+-----------------+------------------+--------------+-----------------+-----------------+\n",
            "| 300067 |   CVdemoGmail   |    Cloud Apps    |     0.0      |      0.001      |    Completed    |\n",
            "+--------+-----------------+------------------+--------------+-----------------+-----------------+\n",
            "| 300066 | ExchangeHybrid  | Exchange Mailbox |     0.0      |       0.0       |    Completed    |\n",
            "+--------+-----------------+------------------+--------------+-----------------+-----------------+\n",
            "| 300065 | ExchangeHybrid  | Exchange Mailbox |     0.0      |       0.0       | Failed to Start |\n",
            "+--------+-----------------+------------------+--------------+-----------------+-----------------+\n",
            "| 300064 |       NFS       |       NDMP       |     0.0      |       0.0       |    Completed    |\n",
            "+--------+-----------------+------------------+--------------+-----------------+-----------------+\n",
            "| 300056 |      awsma      |   File System    |    1.691     |      0.517      |    Completed    |\n",
            "+--------+-----------------+------------------+--------------+-----------------+-----------------+\n",
            "| 300052 | ExchangeOnline  | Exchange Mailbox |     0.0      |       0.0       | Failed to Start |\n",
            "+--------+-----------------+------------------+--------------+-----------------+-----------------+\n",
            "| 300051 | ExchangeHybrid  | Exchange Mailbox |     0.0      |       0.0       |    Completed    |\n",
            "+--------+-----------------+------------------+--------------+-----------------+-----------------+\n",
            "| 300046 |     CIFS01      |   File System    |     0.0      |       0.0       |    Completed    |\n",
            "+--------+-----------------+------------------+--------------+-----------------+-----------------+\n",
            "| 300044 | ExchangeOnline  | Exchange Mailbox |     0.0      |       0.0       | Failed to Start |\n",
            "+--------+-----------------+------------------+--------------+-----------------+-----------------+\n",
            "| 300043 | ExchangeHybrid  | Exchange Mailbox |     0.0      |       0.0       |    Completed    |\n",
            "+--------+-----------------+------------------+--------------+-----------------+-----------------+\n",
            "| 300042 |      azma1      |   File System    |    1.203     |      0.377      |    Completed    |\n",
            "+--------+-----------------+------------------+--------------+-----------------+-----------------+\n",
            "| 300041 | SFDC_Protection |    Cloud Apps    |    0.001     |      0.001      |    Completed    |\n",
            "+--------+-----------------+------------------+--------------+-----------------+-----------------+\n",
            "| 300040 |      Azure      |  Virtual Server  |     0.0      |       0.0       |    Completed    |\n",
            "+--------+-----------------+------------------+--------------+-----------------+-----------------+\n",
            "| 300039 |      Azure      |  Virtual Server  |    2.056     |      0.603      |    Completed    |\n",
            "+--------+-----------------+------------------+--------------+-----------------+-----------------+\n",
            "| 300011 |     Amazon      |  Virtual Server  |    0.174     |      0.129      |    Completed    |\n",
            "+--------+-----------------+------------------+--------------+-----------------+-----------------+\n"
          ],
          "name": "stdout"
        }
      ]
    },
    {
      "cell_type": "code",
      "metadata": {
        "id": "j9FYNc_ABV2Q",
        "colab_type": "code",
        "colab": {
          "base_uri": "https://localhost:8080/",
          "height": 34
        },
        "outputId": "d69767b6-9d89-44d3-acab-b6217b97c217"
      },
      "source": [
        ""
      ],
      "execution_count": 30,
      "outputs": [
        {
          "output_type": "stream",
          "text": [
            "0.25.3\n"
          ],
          "name": "stdout"
        }
      ]
    },
    {
      "cell_type": "markdown",
      "metadata": {
        "id": "JrEvbA5aW_tB",
        "colab_type": "text"
      },
      "source": [
        "\n",
        "\n",
        "---\n",
        "<br><br>\n",
        "\n",
        "## **Jobs stats (last 24h)**"
      ]
    },
    {
      "cell_type": "code",
      "metadata": {
        "id": "wkjEOn0UqRug",
        "colab_type": "code",
        "colab": {
          "base_uri": "https://localhost:8080/",
          "height": 204
        },
        "outputId": "f03ca1fd-89ad-415c-e59f-effa0857fed9"
      },
      "source": [
        "completed_backup_jobs = commcell.job_controller.finished_jobs(limit=1000, job_filter='Backup', job_summary='Full', lookup_time=24)\n",
        "df = pd.DataFrame(columns=['jobid', 'client', 'app_type', 'app_size', 'media_size', 'status'])\n",
        "a = 0\n",
        "for job in completed_backup_jobs:\n",
        "  df.loc[a] = [job, completed_backup_jobs[job]['destinationClient']['clientName'], completed_backup_jobs[job]['appTypeName'], \n",
        "                    completed_backup_jobs[job]['sizeOfApplication']/1024/1024/1024, completed_backup_jobs[job]['sizeOfMediaOnDisk']/1024/1024/1024, \n",
        "                    completed_backup_jobs[job]['status']]\n",
        "  a+=1\n",
        "df_stats = df[['status','jobid']].groupby(['status']).count().reset_index()\n",
        "df_stats.columns = ['Status','Jobs']\n",
        "df_stats"
      ],
      "execution_count": 91,
      "outputs": [
        {
          "output_type": "execute_result",
          "data": {
            "text/html": [
              "<div>\n",
              "<style scoped>\n",
              "    .dataframe tbody tr th:only-of-type {\n",
              "        vertical-align: middle;\n",
              "    }\n",
              "\n",
              "    .dataframe tbody tr th {\n",
              "        vertical-align: top;\n",
              "    }\n",
              "\n",
              "    .dataframe thead th {\n",
              "        text-align: right;\n",
              "    }\n",
              "</style>\n",
              "<table border=\"1\" class=\"dataframe\">\n",
              "  <thead>\n",
              "    <tr style=\"text-align: right;\">\n",
              "      <th></th>\n",
              "      <th>Status</th>\n",
              "      <th>Jobs</th>\n",
              "    </tr>\n",
              "  </thead>\n",
              "  <tbody>\n",
              "    <tr>\n",
              "      <th>0</th>\n",
              "      <td>Completed</td>\n",
              "      <td>315</td>\n",
              "    </tr>\n",
              "    <tr>\n",
              "      <th>1</th>\n",
              "      <td>Completed w/ one or more errors</td>\n",
              "      <td>25</td>\n",
              "    </tr>\n",
              "    <tr>\n",
              "      <th>2</th>\n",
              "      <td>Failed</td>\n",
              "      <td>21</td>\n",
              "    </tr>\n",
              "    <tr>\n",
              "      <th>3</th>\n",
              "      <td>Failed to Start</td>\n",
              "      <td>53</td>\n",
              "    </tr>\n",
              "    <tr>\n",
              "      <th>4</th>\n",
              "      <td>Killed</td>\n",
              "      <td>4</td>\n",
              "    </tr>\n",
              "  </tbody>\n",
              "</table>\n",
              "</div>"
            ],
            "text/plain": [
              "                            Status  Jobs\n",
              "0                        Completed   315\n",
              "1  Completed w/ one or more errors    25\n",
              "2                           Failed    21\n",
              "3                  Failed to Start    53\n",
              "4                           Killed     4"
            ]
          },
          "metadata": {
            "tags": []
          },
          "execution_count": 91
        }
      ]
    },
    {
      "cell_type": "markdown",
      "metadata": {
        "id": "ZJubrFAbvnKS",
        "colab_type": "text"
      },
      "source": [
        "\n",
        "\n",
        "---\n",
        "\n",
        "<br><br>\n",
        "## **Media Size per Client (Top 10, last 24h)** "
      ]
    },
    {
      "cell_type": "code",
      "metadata": {
        "id": "RX2tk3WZvnYx",
        "colab_type": "code",
        "colab": {
          "base_uri": "https://localhost:8080/",
          "height": 359
        },
        "outputId": "c20f96c9-10f3-4852-b484-531b54f22f78"
      },
      "source": [
        "df_stats = df[['client','media_size']].groupby(['client']).sum().reset_index().sort_values(by=['media_size'], ascending=False)\n",
        "df_stats.columns = ['Client','Media Size (GB)']\n",
        "df_stats.head(10)"
      ],
      "execution_count": 94,
      "outputs": [
        {
          "output_type": "execute_result",
          "data": {
            "text/html": [
              "<div>\n",
              "<style scoped>\n",
              "    .dataframe tbody tr th:only-of-type {\n",
              "        vertical-align: middle;\n",
              "    }\n",
              "\n",
              "    .dataframe tbody tr th {\n",
              "        vertical-align: top;\n",
              "    }\n",
              "\n",
              "    .dataframe thead th {\n",
              "        text-align: right;\n",
              "    }\n",
              "</style>\n",
              "<table border=\"1\" class=\"dataframe\">\n",
              "  <thead>\n",
              "    <tr style=\"text-align: right;\">\n",
              "      <th></th>\n",
              "      <th>Client</th>\n",
              "      <th>Media Size (GB)</th>\n",
              "    </tr>\n",
              "  </thead>\n",
              "  <tbody>\n",
              "    <tr>\n",
              "      <th>34</th>\n",
              "      <td>Vcenter_OnPrem</td>\n",
              "      <td>6.133442</td>\n",
              "    </tr>\n",
              "    <tr>\n",
              "      <th>35</th>\n",
              "      <td>awsma</td>\n",
              "      <td>4.655011</td>\n",
              "    </tr>\n",
              "    <tr>\n",
              "      <th>36</th>\n",
              "      <td>azma1</td>\n",
              "      <td>3.386943</td>\n",
              "    </tr>\n",
              "    <tr>\n",
              "      <th>38</th>\n",
              "      <td>exchange2</td>\n",
              "      <td>2.947183</td>\n",
              "    </tr>\n",
              "    <tr>\n",
              "      <th>5</th>\n",
              "      <td>Azure</td>\n",
              "      <td>2.223956</td>\n",
              "    </tr>\n",
              "    <tr>\n",
              "      <th>17</th>\n",
              "      <td>FileServerData</td>\n",
              "      <td>1.253389</td>\n",
              "    </tr>\n",
              "    <tr>\n",
              "      <th>41</th>\n",
              "      <td>hs02.cv.lab</td>\n",
              "      <td>1.143417</td>\n",
              "    </tr>\n",
              "    <tr>\n",
              "      <th>4</th>\n",
              "      <td>Amazon</td>\n",
              "      <td>1.142256</td>\n",
              "    </tr>\n",
              "    <tr>\n",
              "      <th>40</th>\n",
              "      <td>hs01.cv.lab</td>\n",
              "      <td>1.126840</td>\n",
              "    </tr>\n",
              "    <tr>\n",
              "      <th>42</th>\n",
              "      <td>hs03.cv.lab</td>\n",
              "      <td>1.116640</td>\n",
              "    </tr>\n",
              "  </tbody>\n",
              "</table>\n",
              "</div>"
            ],
            "text/plain": [
              "            Client  Media Size (GB)\n",
              "34  Vcenter_OnPrem         6.133442\n",
              "35           awsma         4.655011\n",
              "36           azma1         3.386943\n",
              "38       exchange2         2.947183\n",
              "5            Azure         2.223956\n",
              "17  FileServerData         1.253389\n",
              "41     hs02.cv.lab         1.143417\n",
              "4           Amazon         1.142256\n",
              "40     hs01.cv.lab         1.126840\n",
              "42     hs03.cv.lab         1.116640"
            ]
          },
          "metadata": {
            "tags": []
          },
          "execution_count": 94
        }
      ]
    },
    {
      "cell_type": "markdown",
      "metadata": {
        "id": "_BZaUPrCwqvE",
        "colab_type": "text"
      },
      "source": [
        "\n",
        "\n",
        "---\n",
        "<br><br>\n",
        "\n",
        "##**Media Size per Agent (last 24h)**"
      ]
    },
    {
      "cell_type": "code",
      "metadata": {
        "id": "IYDkPJ0bwq2n",
        "colab_type": "code",
        "colab": {
          "base_uri": "https://localhost:8080/",
          "height": 452
        },
        "outputId": "18a6b0d8-0a36-48de-c42c-324428840b14"
      },
      "source": [
        "df_stats = df[['app_type','media_size']].groupby(['app_type']).sum().reset_index().sort_values(by=['media_size'], ascending=False)\n",
        "df_stats.columns = ['Application Type','Media Size (GB)']\n",
        "df_stats"
      ],
      "execution_count": 93,
      "outputs": [
        {
          "output_type": "execute_result",
          "data": {
            "text/html": [
              "<div>\n",
              "<style scoped>\n",
              "    .dataframe tbody tr th:only-of-type {\n",
              "        vertical-align: middle;\n",
              "    }\n",
              "\n",
              "    .dataframe tbody tr th {\n",
              "        vertical-align: top;\n",
              "    }\n",
              "\n",
              "    .dataframe thead th {\n",
              "        text-align: right;\n",
              "    }\n",
              "</style>\n",
              "<table border=\"1\" class=\"dataframe\">\n",
              "  <thead>\n",
              "    <tr style=\"text-align: right;\">\n",
              "      <th></th>\n",
              "      <th>Application Type</th>\n",
              "      <th>Media Size (GB)</th>\n",
              "    </tr>\n",
              "  </thead>\n",
              "  <tbody>\n",
              "    <tr>\n",
              "      <th>5</th>\n",
              "      <td>File System</td>\n",
              "      <td>15.796970</td>\n",
              "    </tr>\n",
              "    <tr>\n",
              "      <th>12</th>\n",
              "      <td>Virtual Server</td>\n",
              "      <td>9.499654</td>\n",
              "    </tr>\n",
              "    <tr>\n",
              "      <th>1</th>\n",
              "      <td>Big Data Apps</td>\n",
              "      <td>0.674927</td>\n",
              "    </tr>\n",
              "    <tr>\n",
              "      <th>11</th>\n",
              "      <td>Sharepoint Server</td>\n",
              "      <td>0.313044</td>\n",
              "    </tr>\n",
              "    <tr>\n",
              "      <th>10</th>\n",
              "      <td>SQL Server</td>\n",
              "      <td>0.023627</td>\n",
              "    </tr>\n",
              "    <tr>\n",
              "      <th>2</th>\n",
              "      <td>Cloud Apps</td>\n",
              "      <td>0.015136</td>\n",
              "    </tr>\n",
              "    <tr>\n",
              "      <th>3</th>\n",
              "      <td>Exchange Database</td>\n",
              "      <td>0.012905</td>\n",
              "    </tr>\n",
              "    <tr>\n",
              "      <th>0</th>\n",
              "      <td>Active Directory</td>\n",
              "      <td>0.009162</td>\n",
              "    </tr>\n",
              "    <tr>\n",
              "      <th>4</th>\n",
              "      <td>Exchange Mailbox</td>\n",
              "      <td>0.008621</td>\n",
              "    </tr>\n",
              "    <tr>\n",
              "      <th>7</th>\n",
              "      <td>NDMP</td>\n",
              "      <td>0.001020</td>\n",
              "    </tr>\n",
              "    <tr>\n",
              "      <th>6</th>\n",
              "      <td>MySQL</td>\n",
              "      <td>0.000000</td>\n",
              "    </tr>\n",
              "    <tr>\n",
              "      <th>8</th>\n",
              "      <td>Oracle</td>\n",
              "      <td>0.000000</td>\n",
              "    </tr>\n",
              "    <tr>\n",
              "      <th>9</th>\n",
              "      <td>PostgreSQL</td>\n",
              "      <td>0.000000</td>\n",
              "    </tr>\n",
              "  </tbody>\n",
              "</table>\n",
              "</div>"
            ],
            "text/plain": [
              "     Application Type  Media Size (GB)\n",
              "5         File System        15.796970\n",
              "12     Virtual Server         9.499654\n",
              "1       Big Data Apps         0.674927\n",
              "11  Sharepoint Server         0.313044\n",
              "10         SQL Server         0.023627\n",
              "2          Cloud Apps         0.015136\n",
              "3   Exchange Database         0.012905\n",
              "0    Active Directory         0.009162\n",
              "4    Exchange Mailbox         0.008621\n",
              "7                NDMP         0.001020\n",
              "6               MySQL         0.000000\n",
              "8              Oracle         0.000000\n",
              "9          PostgreSQL         0.000000"
            ]
          },
          "metadata": {
            "tags": []
          },
          "execution_count": 93
        }
      ]
    },
    {
      "cell_type": "markdown",
      "metadata": {
        "id": "UyVF4eqe3N0Z",
        "colab_type": "text"
      },
      "source": [
        "\n",
        "\n",
        "---\n",
        "<br><br>\n",
        "# **Properties of randomly selected client**\n"
      ]
    },
    {
      "cell_type": "code",
      "metadata": {
        "id": "t0hQ_uZf3NTa",
        "colab_type": "code",
        "colab": {
          "base_uri": "https://localhost:8080/",
          "height": 102
        },
        "outputId": "d33d47ab-3ca2-4ddf-e8c7-ca4654dd5e77"
      },
      "source": [
        "cls = list(commcell.clients.all_clients.keys())\n",
        "cltmp = commcell.clients.get(cls[random.randrange(0, len(cls))])\n",
        "table = BeautifulTable(max_width=300)\n",
        "table.column_headers = [\"Client Name\", \"Hostname\", \"Install Dir\", 'Data Management Enabled', 'Recovery Enabled', 'Version', 'Service Pack', 'Installed Agents']\n",
        "table.append_row([cltmp.display_name, cltmp.client_hostname, cltmp.install_directory, cltmp.is_data_management_enabled, cltmp.is_data_recovery_enabled, cltmp.version, cltmp.service_pack, list(cltmp.agents.all_agents.keys())])\n",
        "print(table)\n"
      ],
      "execution_count": 127,
      "outputs": [
        {
          "output_type": "stream",
          "text": [
            "+-------------+---------------+-----------------------------------------+-------------------------+------------------+---------+--------------+-------------------------------------------------------------------------------+\n",
            "| Client Name |   Hostname    |               Install Dir               | Data Management Enabled | Recovery Enabled | Version | Service Pack |                               Installed Agents                                |\n",
            "+-------------+---------------+-----------------------------------------+-------------------------+------------------+---------+--------------+-------------------------------------------------------------------------------+\n",
            "|   search    | SEARCH.cv.lab | C:\\Program Files\\Commvault\\ContentStore |          True           |       True       |   11    |      18      | ['continuous data replicator', 'sql server', 'virtual server', 'file system'] |\n",
            "+-------------+---------------+-----------------------------------------+-------------------------+------------------+---------+--------------+-------------------------------------------------------------------------------+\n"
          ],
          "name": "stdout"
        }
      ]
    },
    {
      "cell_type": "markdown",
      "metadata": {
        "id": "oqx2lt6v8omM",
        "colab_type": "text"
      },
      "source": [
        "\n",
        "\n",
        "---\n",
        "## **List of Plans**\n"
      ]
    },
    {
      "cell_type": "code",
      "metadata": {
        "id": "nZB4p19C8mNt",
        "colab_type": "code",
        "colab": {
          "base_uri": "https://localhost:8080/",
          "height": 952
        },
        "outputId": "f1034a47-57d1-435c-aa8d-49eadbbd60ae"
      },
      "source": [
        "table = BeautifulTable(max_width=300)\n",
        "table.column_headers = [\"Plan Name\", \"RPO(h)\"]\n",
        "for plan in commcell.plans.all_plans:\n",
        "  plantmp = commcell.plans.get(plan)\n",
        "  table.append_row([plan, plantmp.sla_in_minutes/60])\n",
        "print(table)\n",
        "\n",
        "  \n"
      ],
      "execution_count": 154,
      "outputs": [
        {
          "output_type": "stream",
          "text": [
            "+-----------------------------------------------+--------+\n",
            "|                   Plan Name                   | RPO(h) |\n",
            "+-----------------------------------------------+--------+\n",
            "|           basic_data_30d_hyperscale           |  3.0   |\n",
            "+-----------------------------------------------+--------+\n",
            "|           basic_virtual_servers_30d           |  3.0   |\n",
            "+-----------------------------------------------+--------+\n",
            "|                  awsbase_30d                  |  3.0   |\n",
            "+-----------------------------------------------+--------+\n",
            "|                 azurebase_30d                 |  3.0   |\n",
            "+-----------------------------------------------+--------+\n",
            "|                 aws databases                 |  4.0   |\n",
            "+-----------------------------------------------+--------+\n",
            "|                onpremsnap plan                |  4.0   |\n",
            "+-----------------------------------------------+--------+\n",
            "|           cvdemo user mailbox plan            |  0.0   |\n",
            "+-----------------------------------------------+--------+\n",
            "|               searchenabled30d                |  3.0   |\n",
            "+-----------------------------------------------+--------+\n",
            "|                 aws_snap_plan                 |  8.0   |\n",
            "+-----------------------------------------------+--------+\n",
            "|                  laptop plan                  |  8.0   |\n",
            "+-----------------------------------------------+--------+\n",
            "|                cvfieldcompany                 |  3.0   |\n",
            "+-----------------------------------------------+--------+\n",
            "|          vsa app aware 30day onprem           |  3.0   |\n",
            "+-----------------------------------------------+--------+\n",
            "| server on prem 30 day azure 15day - alldrives |  3.0   |\n",
            "+-----------------------------------------------+--------+\n",
            "|       database on prem 30day aws 15day        |  8.0   |\n",
            "+-----------------------------------------------+--------+\n",
            "|            vmware on prem to azure            |  4.0   |\n",
            "+-----------------------------------------------+--------+\n",
            "|               vmware dc1 to dc2               |  4.0   |\n",
            "+-----------------------------------------------+--------+\n",
            "|                compliance plan                |  0.0   |\n",
            "+-----------------------------------------------+--------+\n",
            "|            csmailbox journal plan             |  0.0   |\n",
            "+-----------------------------------------------+--------+\n",
            "|                googlebase_30d                 |  9.0   |\n",
            "+-----------------------------------------------+--------+\n",
            "|  financial services data classification plan  |  0.0   |\n",
            "+-----------------------------------------------+--------+\n",
            "|                healthcare plan                |  0.0   |\n",
            "+-----------------------------------------------+--------+\n",
            "|             records - memorandum              |  0.0   |\n",
            "+-----------------------------------------------+--------+\n",
            "|                   vmsearch                    |  0.0   |\n",
            "+-----------------------------------------------+--------+\n",
            "|               dr copy to cloud                |  4.0   |\n",
            "+-----------------------------------------------+--------+\n",
            "|                  tsmc laptop                  |  8.0   |\n",
            "+-----------------------------------------------+--------+\n",
            "|                     test1                     |  4.0   |\n",
            "+-----------------------------------------------+--------+\n"
          ],
          "name": "stdout"
        }
      ]
    },
    {
      "cell_type": "markdown",
      "metadata": {
        "id": "_U3pauGP8mcC",
        "colab_type": "text"
      },
      "source": [
        ""
      ]
    },
    {
      "cell_type": "markdown",
      "metadata": {
        "id": "9g8Lsa5GyFA0",
        "colab_type": "text"
      },
      "source": [
        "\n",
        "\n",
        "---\n",
        "<br><br>\n",
        "## **List of Tenants (Companies)**\n"
      ]
    },
    {
      "cell_type": "code",
      "metadata": {
        "id": "l2L6TisfyFIc",
        "colab_type": "code",
        "colab": {}
      },
      "source": [
        "a = commcell.storage_pools.get('az_east_global_dedupe_policy')"
      ],
      "execution_count": 0,
      "outputs": []
    },
    {
      "cell_type": "code",
      "metadata": {
        "id": "V1Uvc2dpyxU_",
        "colab_type": "code",
        "colab": {
          "base_uri": "https://localhost:8080/",
          "height": 170
        },
        "outputId": "080a6412-e6bd-447d-8a21-0a4eb4408d52"
      },
      "source": [
        "table = BeautifulTable(max_width=300)\n",
        "table.column_headers = [\"Tenant Name\", \"Assigned Plans\", \"Number of Servers\", 'Auto Discovery Enabled', 'Auth Code Enabled', 'Tenant Admin']\n",
        "\n",
        "for org in commcell.organizations.all_organizations:\n",
        "  orgtmp = commcell.organizations.get(org)\n",
        "  table.append_row([org, orgtmp.plans, orgtmp.machine_count, orgtmp.is_auto_discover_enabled, orgtmp.is_auth_code_enabled, orgtmp.contacts])\n",
        "print(table)"
      ],
      "execution_count": 111,
      "outputs": [
        {
          "output_type": "stream",
          "text": [
            "+--------------------+--------------------+-------------------+------------------------+-------------------+----------------------------+\n",
            "|    Tenant Name     |   Assigned Plans   | Number of Servers | Auto Discovery Enabled | Auth Code Enabled |        Tenant Admin        |\n",
            "+--------------------+--------------------+-------------------+------------------------+-------------------+----------------------------+\n",
            "| gnoogle demolition |         []         |         3         |         False          |       True        | ['Gnoogle\\\\company1admin'] |\n",
            "+--------------------+--------------------+-------------------+------------------------+-------------------+----------------------------+\n",
            "|  cvfieldsecompany  | ['cvfieldcompany'] |         2         |         False          |       True        |    ['CVfield\\\\bgates']     |\n",
            "+--------------------+--------------------+-------------------+------------------------+-------------------+----------------------------+\n",
            "|       enron        |         []         |         0         |         False          |       True        |    ['enron\\\\mgrigsby']     |\n",
            "+--------------------+--------------------+-------------------+------------------------+-------------------+----------------------------+\n"
          ],
          "name": "stdout"
        }
      ]
    }
  ]
}