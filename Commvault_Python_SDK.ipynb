{
  "nbformat": 4,
  "nbformat_minor": 0,
  "metadata": {
    "colab": {
      "name": "Commvault_Python_SDK.ipynb",
      "provenance": [],
      "authorship_tag": "ABX9TyPS4swhhowwJeds3AkaJeuP",
      "include_colab_link": true
    },
    "kernelspec": {
      "name": "python3",
      "display_name": "Python 3"
    }
  },
  "cells": [
    {
      "cell_type": "markdown",
      "metadata": {
        "id": "view-in-github",
        "colab_type": "text"
      },
      "source": [
        "<a href=\"https://colab.research.google.com/github/marekk1717/letsautomate/blob/master/Commvault_Python_SDK.ipynb\" target=\"_parent\"><img src=\"https://colab.research.google.com/assets/colab-badge.svg\" alt=\"Open In Colab\"/></a>"
      ]
    },
    {
      "cell_type": "markdown",
      "metadata": {
        "id": "111J-qy9D9oe",
        "colab_type": "text"
      },
      "source": [
        "Installation of cvpysdk and required dependencies"
      ]
    },
    {
      "cell_type": "code",
      "metadata": {
        "id": "4NGXi5RlEEKL",
        "colab_type": "code",
        "colab": {}
      },
      "source": [
        "!pip install xmltodict future requests\n",
        "!pip install git+https://github.com/CommvaultEngg/cvpysdk.git@dev"
      ],
      "execution_count": 0,
      "outputs": []
    },
    {
      "cell_type": "code",
      "metadata": {
        "id": "wbNta-OnFvoN",
        "colab_type": "code",
        "colab": {}
      },
      "source": [
        "from cvpysdk.commcell import Commcell\n",
        "import getpass"
      ],
      "execution_count": 0,
      "outputs": []
    },
    {
      "cell_type": "markdown",
      "metadata": {
        "id": "NEgH2SnTFXyX",
        "colab_type": "text"
      },
      "source": [
        "jj"
      ]
    },
    {
      "cell_type": "code",
      "metadata": {
        "id": "3QPgQIEnFZBw",
        "colab_type": "code",
        "colab": {
          "base_uri": "https://localhost:8080/",
          "height": 51
        },
        "outputId": "cd840dff-e1b5-427b-b3d5-b3314b07f6e4"
      },
      "source": [
        "WEBCONSOLE_URL = 'democommserve.commvault.com'\n",
        "COMMCELL_USERNAME = input(\"Username: \")\n",
        "COMMCELL_PASSWORD = getpass.getpass(prompt='Password: ')"
      ],
      "execution_count": 9,
      "outputs": [
        {
          "output_type": "stream",
          "text": [
            "Username: mkedzierski\n",
            "Password: ··········\n"
          ],
          "name": "stdout"
        }
      ]
    },
    {
      "cell_type": "markdown",
      "metadata": {
        "id": "m18gKgSzFrG6",
        "colab_type": "text"
      },
      "source": [
        "Connect to [WebConsole](https://democommserve.commvault.com)"
      ]
    },
    {
      "cell_type": "code",
      "metadata": {
        "id": "aoGu1FW5FrPe",
        "colab_type": "code",
        "outputId": "fc37ee59-00f0-495a-d566-b82349a7b838",
        "colab": {
          "base_uri": "https://localhost:8080/",
          "height": 34
        }
      },
      "source": [
        "commcell = Commcell(webconsole_hostname=WEBCONSOLE_URL, commcell_username=COMMCELL_USERNAME, commcell_password=COMMCELL_PASSWORD)\n",
        "print('Connected to ' + commcell.commserv_hostname + ', Version: v11SP' + str(commcell.commserv_version))"
      ],
      "execution_count": 10,
      "outputs": [
        {
          "output_type": "stream",
          "text": [
            "Connected to COMMSERVE.cv.lab, Version: v11SP18\n"
          ],
          "name": "stdout"
        }
      ]
    },
    {
      "cell_type": "code",
      "metadata": {
        "id": "vVC0JME8KDsM",
        "colab_type": "code",
        "outputId": "29e4830a-cad8-47d1-9bc4-8926e187bc02",
        "colab": {
          "base_uri": "https://localhost:8080/",
          "height": 34
        }
      },
      "source": [
        ""
      ],
      "execution_count": 5,
      "outputs": [
        {
          "output_type": "stream",
          "text": [
            "··········\n"
          ],
          "name": "stdout"
        }
      ]
    }
  ]
}