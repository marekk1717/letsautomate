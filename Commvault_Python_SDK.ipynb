{
  "nbformat": 4,
  "nbformat_minor": 0,
  "metadata": {
    "colab": {
      "name": "Commvault_Python_SDK.ipynb",
      "provenance": [],
      "authorship_tag": "ABX9TyOZNNnCL4zMuk+Q7F/J0OeY",
      "include_colab_link": true
    },
    "kernelspec": {
      "name": "python3",
      "display_name": "Python 3"
    }
  },
  "cells": [
    {
      "cell_type": "markdown",
      "metadata": {
        "id": "view-in-github",
        "colab_type": "text"
      },
      "source": [
        "<a href=\"https://colab.research.google.com/github/marekk1717/letsautomate/blob/master/Commvault_Python_SDK.ipynb\" target=\"_parent\"><img src=\"https://colab.research.google.com/assets/colab-badge.svg\" alt=\"Open In Colab\"/></a>"
      ]
    },
    {
      "cell_type": "markdown",
      "metadata": {
        "id": "111J-qy9D9oe",
        "colab_type": "text"
      },
      "source": [
        "\n",
        "## Installation of cvpysdk and required dependencies"
      ]
    },
    {
      "cell_type": "code",
      "metadata": {
        "id": "4NGXi5RlEEKL",
        "colab_type": "code",
        "colab": {
          "base_uri": "https://localhost:8080/",
          "height": 527
        },
        "outputId": "56ffe550-64a6-4638-c44d-6fe05ba2378a"
      },
      "source": [
        "!pip install xmltodict future requests beautifultable\n",
        "!pip install git+https://github.com/CommvaultEngg/cvpysdk.git@dev"
      ],
      "execution_count": 32,
      "outputs": [
        {
          "output_type": "stream",
          "text": [
            "Requirement already satisfied: xmltodict in /usr/local/lib/python3.6/dist-packages (0.12.0)\n",
            "Requirement already satisfied: future in /usr/local/lib/python3.6/dist-packages (0.16.0)\n",
            "Requirement already satisfied: requests in /usr/local/lib/python3.6/dist-packages (2.21.0)\n",
            "Collecting beautifultable\n",
            "  Downloading https://files.pythonhosted.org/packages/d9/56/eaf1b9f2b323e05dce573f88c72eaa0107610db709b8bee97b776903ac55/beautifultable-0.8.0-py2.py3-none-any.whl\n",
            "Requirement already satisfied: certifi>=2017.4.17 in /usr/local/lib/python3.6/dist-packages (from requests) (2019.11.28)\n",
            "Requirement already satisfied: idna<2.9,>=2.5 in /usr/local/lib/python3.6/dist-packages (from requests) (2.8)\n",
            "Requirement already satisfied: urllib3<1.25,>=1.21.1 in /usr/local/lib/python3.6/dist-packages (from requests) (1.24.3)\n",
            "Requirement already satisfied: chardet<3.1.0,>=3.0.2 in /usr/local/lib/python3.6/dist-packages (from requests) (3.0.4)\n",
            "Installing collected packages: beautifultable\n",
            "Successfully installed beautifultable-0.8.0\n",
            "Collecting git+https://github.com/CommvaultEngg/cvpysdk.git@dev\n",
            "  Cloning https://github.com/CommvaultEngg/cvpysdk.git (to revision dev) to /tmp/pip-req-build-mins6njo\n",
            "  Running command git clone -q https://github.com/CommvaultEngg/cvpysdk.git /tmp/pip-req-build-mins6njo\n",
            "  Running command git checkout -b dev --track origin/dev\n",
            "  Switched to a new branch 'dev'\n",
            "  Branch 'dev' set up to track remote branch 'dev' from 'origin'.\n",
            "Requirement already satisfied (use --upgrade to upgrade): cvpysdk==11.20 from git+https://github.com/CommvaultEngg/cvpysdk.git@dev in /usr/local/lib/python3.6/dist-packages\n",
            "Requirement already satisfied: requests in /usr/local/lib/python3.6/dist-packages (from cvpysdk==11.20) (2.21.0)\n",
            "Requirement already satisfied: future in /usr/local/lib/python3.6/dist-packages (from cvpysdk==11.20) (0.16.0)\n",
            "Requirement already satisfied: xmltodict in /usr/local/lib/python3.6/dist-packages (from cvpysdk==11.20) (0.12.0)\n",
            "Requirement already satisfied: certifi>=2017.4.17 in /usr/local/lib/python3.6/dist-packages (from requests->cvpysdk==11.20) (2019.11.28)\n",
            "Requirement already satisfied: urllib3<1.25,>=1.21.1 in /usr/local/lib/python3.6/dist-packages (from requests->cvpysdk==11.20) (1.24.3)\n",
            "Requirement already satisfied: idna<2.9,>=2.5 in /usr/local/lib/python3.6/dist-packages (from requests->cvpysdk==11.20) (2.8)\n",
            "Requirement already satisfied: chardet<3.1.0,>=3.0.2 in /usr/local/lib/python3.6/dist-packages (from requests->cvpysdk==11.20) (3.0.4)\n",
            "Building wheels for collected packages: cvpysdk\n",
            "  Building wheel for cvpysdk (setup.py) ... \u001b[?25l\u001b[?25hdone\n",
            "  Created wheel for cvpysdk: filename=cvpysdk-11.20-cp36-none-any.whl size=804445 sha256=ed9962029e2192fb63231c5b046eb7f27e650a3df6a09b6b96bf2976cdc18ddc\n",
            "  Stored in directory: /tmp/pip-ephem-wheel-cache-_sx6pu_z/wheels/2b/c6/a7/d6c4aa2952b453907a67f6f5a42d85223fdd15622d0e0fb90e\n",
            "Successfully built cvpysdk\n"
          ],
          "name": "stdout"
        }
      ]
    },
    {
      "cell_type": "code",
      "metadata": {
        "id": "wbNta-OnFvoN",
        "colab_type": "code",
        "colab": {}
      },
      "source": [
        "from cvpysdk.commcell import Commcell\n",
        "import getpass\n",
        "import json\n",
        "from beautifultable import BeautifulTable"
      ],
      "execution_count": 0,
      "outputs": []
    },
    {
      "cell_type": "markdown",
      "metadata": {
        "id": "NEgH2SnTFXyX",
        "colab_type": "text"
      },
      "source": [
        "\n",
        "\n",
        "---\n",
        "\n",
        "\n",
        "jj"
      ]
    },
    {
      "cell_type": "code",
      "metadata": {
        "id": "3QPgQIEnFZBw",
        "colab_type": "code",
        "colab": {
          "base_uri": "https://localhost:8080/",
          "height": 68
        },
        "outputId": "fdb5ecf6-b3ca-431c-a9bb-f966a78ac3df"
      },
      "source": [
        "WEBCONSOLE_URL = input('WebConsole URL: ')\n",
        "COMMCELL_USERNAME = input('Username: ')\n",
        "COMMCELL_PASSWORD = getpass.getpass(prompt='Password: ')"
      ],
      "execution_count": 16,
      "outputs": [
        {
          "output_type": "stream",
          "text": [
            "WebConsole URL: democommserve.commvault.com\n",
            "Username: mkedzierski\n",
            "Password: ··········\n"
          ],
          "name": "stdout"
        }
      ]
    },
    {
      "cell_type": "markdown",
      "metadata": {
        "id": "m18gKgSzFrG6",
        "colab_type": "text"
      },
      "source": [
        "\n",
        "\n",
        "---\n",
        "\n",
        "## Connect to WebConsole"
      ]
    },
    {
      "cell_type": "code",
      "metadata": {
        "id": "aoGu1FW5FrPe",
        "colab_type": "code",
        "outputId": "da1b4d32-7f72-4433-d24a-9415f32426c2",
        "colab": {
          "base_uri": "https://localhost:8080/",
          "height": 34
        }
      },
      "source": [
        "commcell = Commcell(webconsole_hostname=WEBCONSOLE_URL, commcell_username=COMMCELL_USERNAME, commcell_password=COMMCELL_PASSWORD)\n",
        "print('Connected to ' + commcell.commserv_hostname + ', Version: v11SP' + str(commcell.commserv_version))"
      ],
      "execution_count": 17,
      "outputs": [
        {
          "output_type": "stream",
          "text": [
            "Connected to COMMSERVE.cv.lab, Version: v11SP18\n"
          ],
          "name": "stdout"
        }
      ]
    },
    {
      "cell_type": "markdown",
      "metadata": {
        "id": "X32FcziM9JHW",
        "colab_type": "text"
      },
      "source": [
        "\n",
        "\n",
        "---\n",
        "\n",
        "\n",
        "## List of active backup jobs"
      ]
    },
    {
      "cell_type": "code",
      "metadata": {
        "id": "vVC0JME8KDsM",
        "colab_type": "code",
        "outputId": "7e9bb2fe-94a7-4a78-f76d-caa504df8919",
        "colab": {
          "base_uri": "https://localhost:8080/",
          "height": 357
        }
      },
      "source": [
        "active_backup_jobs = commcell.job_controller.active_jobs(limit=1000, job_filter='Backup', job_summary='Full')\n",
        "table = BeautifulTable()\n",
        "table.column_headers = [\"JOB ID\", \"Client\", \"AppType\", \"% Complete\", 'AppSize (GB)']\n",
        "for job in active_backup_jobs:\n",
        "  table.append_row([job, active_backup_jobs[job]['destinationClient']['clientName'], active_backup_jobs[job]['appTypeName'], active_backup_jobs[job]['percentComplete'], active_backup_jobs[job]['sizeOfApplication']/1024/1024/1024])\n",
        "print(table)"
      ],
      "execution_count": 43,
      "outputs": [
        {
          "output_type": "stream",
          "text": [
            "+--------+-------------------------+---------------+------------+--------------+\n",
            "| JOB ID |         Client          |    AppType    | % Complete | AppSize (GB) |\n",
            "+--------+-------------------------+---------------+------------+--------------+\n",
            "| 299999 |         vmlinux         |  File System  |     0      |     0.0      |\n",
            "+--------+-------------------------+---------------+------------+--------------+\n",
            "| 299996 |     ExchangeHybrid      | Exchange Mail |     0      |     0.0      |\n",
            "|        |                         |      box      |            |              |\n",
            "+--------+-------------------------+---------------+------------+--------------+\n",
            "| 299993 |         sqlec2          |  File System  |     0      |     0.0      |\n",
            "+--------+-------------------------+---------------+------------+--------------+\n",
            "| 299875 |     Vcenter_OnPrem      | Virtual Serve |     89     |    0.071     |\n",
            "|        |                         |       r       |            |              |\n",
            "+--------+-------------------------+---------------+------------+--------------+\n",
            "| 299836 | Googlebase_30d_IndexSer | Big Data Apps |     0      |     0.0      |\n",
            "|        |           ver           |               |            |              |\n",
            "+--------+-------------------------+---------------+------------+--------------+\n",
            "| 297793 |       Rockhopper        |  PostgreSQL   |     0      |     0.0      |\n",
            "+--------+-------------------------+---------------+------------+--------------+\n",
            "| 297792 |         Oswald          |     MySQL     |     0      |     0.0      |\n",
            "+--------+-------------------------+---------------+------------+--------------+\n"
          ],
          "name": "stdout"
        }
      ]
    },
    {
      "cell_type": "code",
      "metadata": {
        "id": "j9FYNc_ABV2Q",
        "colab_type": "code",
        "colab": {
          "base_uri": "https://localhost:8080/",
          "height": 34
        },
        "outputId": "d69767b6-9d89-44d3-acab-b6217b97c217"
      },
      "source": [
        ""
      ],
      "execution_count": 30,
      "outputs": [
        {
          "output_type": "stream",
          "text": [
            "0.25.3\n"
          ],
          "name": "stdout"
        }
      ]
    }
  ]
}