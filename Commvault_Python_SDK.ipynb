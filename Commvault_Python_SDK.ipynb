{
  "nbformat": 4,
  "nbformat_minor": 0,
  "metadata": {
    "colab": {
      "name": "Commvault_Python_SDK.ipynb",
      "provenance": [],
      "collapsed_sections": [],
      "authorship_tag": "ABX9TyMcPrGQdnvDQVrC1KZ7d6iA",
      "include_colab_link": true
    },
    "kernelspec": {
      "name": "python3",
      "display_name": "Python 3"
    }
  },
  "cells": [
    {
      "cell_type": "markdown",
      "metadata": {
        "id": "view-in-github",
        "colab_type": "text"
      },
      "source": [
        "<a href=\"https://colab.research.google.com/github/marekk1717/letsautomate/blob/master/Commvault_Python_SDK.ipynb\" target=\"_parent\"><img src=\"https://colab.research.google.com/assets/colab-badge.svg\" alt=\"Open In Colab\"/></a>"
      ]
    },
    {
      "cell_type": "markdown",
      "metadata": {
        "id": "111J-qy9D9oe",
        "colab_type": "text"
      },
      "source": [
        "\n",
        "## **Installation of cvpysdk and required dependencies**"
      ]
    },
    {
      "cell_type": "code",
      "metadata": {
        "id": "4NGXi5RlEEKL",
        "colab_type": "code",
        "colab": {}
      },
      "source": [
        "!pip install xmltodict future requests beautifultable\n",
        "!pip install git+https://github.com/CommvaultEngg/cvpysdk.git@dev"
      ],
      "execution_count": 0,
      "outputs": []
    },
    {
      "cell_type": "code",
      "metadata": {
        "id": "wbNta-OnFvoN",
        "colab_type": "code",
        "colab": {}
      },
      "source": [
        "from cvpysdk.commcell import Commcell\n",
        "import getpass\n",
        "import json\n",
        "from beautifultable import BeautifulTable\n",
        "import pandas as pd\n",
        "import random\n",
        "import requests"
      ],
      "execution_count": 0,
      "outputs": []
    },
    {
      "cell_type": "markdown",
      "metadata": {
        "id": "m18gKgSzFrG6",
        "colab_type": "text"
      },
      "source": [
        "\n",
        "\n",
        "---\n",
        "<br><br>\n",
        "## **Connect to WebConsole**"
      ]
    },
    {
      "cell_type": "code",
      "metadata": {
        "id": "aoGu1FW5FrPe",
        "colab_type": "code",
        "colab": {}
      },
      "source": [
        "WEBCONSOLE_URL = input('WebConsole URL: ')\n",
        "COMMCELL_USERNAME = input('Username: ')\n",
        "COMMCELL_PASSWORD = getpass.getpass(prompt='Password: ')\n",
        "\n",
        "commcell = Commcell(webconsole_hostname=WEBCONSOLE_URL, commcell_username=COMMCELL_USERNAME, commcell_password=COMMCELL_PASSWORD)\n",
        "print('Connected to ' + commcell.commserv_hostname + ', Version: v11SP' + str(commcell.commserv_version))"
      ],
      "execution_count": 0,
      "outputs": []
    },
    {
      "cell_type": "markdown",
      "metadata": {
        "id": "X32FcziM9JHW",
        "colab_type": "text"
      },
      "source": [
        "\n",
        "\n",
        "---\n",
        "<br><br>\n",
        "\n",
        "## **List of active backup jobs**"
      ]
    },
    {
      "cell_type": "code",
      "metadata": {
        "id": "vVC0JME8KDsM",
        "colab_type": "code",
        "colab": {}
      },
      "source": [
        "active_backup_jobs = commcell.job_controller.active_jobs(limit=1000, job_filter='Backup', job_summary='Full')\n",
        "table = BeautifulTable(max_width=300)\n",
        "table.column_headers = [\"JOB ID\", \"Client\", \"AppType\", \"% Complete\", 'AppSize (GB)']\n",
        "for job in active_backup_jobs:\n",
        "  table.append_row([job, active_backup_jobs[job]['destinationClient']['clientName'], active_backup_jobs[job]['appTypeName'], \n",
        "                    active_backup_jobs[job]['percentComplete'], active_backup_jobs[job]['sizeOfApplication']/1024/1024/1024])\n",
        "print(table)"
      ],
      "execution_count": 0,
      "outputs": []
    },
    {
      "cell_type": "markdown",
      "metadata": {
        "id": "7BSsOE1yWQ7z",
        "colab_type": "text"
      },
      "source": [
        "---\n",
        "<br><br>\n",
        "## **Completed backup jobs (1h)**"
      ]
    },
    {
      "cell_type": "code",
      "metadata": {
        "id": "4MxPuoMSWRIi",
        "colab_type": "code",
        "colab": {}
      },
      "source": [
        "completed_backup_jobs = commcell.job_controller.finished_jobs(limit=1000, job_filter='Backup', job_summary='Full', lookup_time=1)\n",
        "table = BeautifulTable(max_width=300)\n",
        "table.column_headers = [\"JOB ID\", \"Client\", \"AppType\", 'AppSize (GB)', 'Media Size (GB)', 'Status']\n",
        "for job in completed_backup_jobs:\n",
        "  table.append_row([job, completed_backup_jobs[job]['destinationClient']['clientName'], completed_backup_jobs[job]['appTypeName'], \n",
        "                    completed_backup_jobs[job]['sizeOfApplication']/1024/1024/1024, completed_backup_jobs[job]['sizeOfMediaOnDisk']/1024/1024/1024, \n",
        "                    completed_backup_jobs[job]['status']])\n",
        "print(table)"
      ],
      "execution_count": 0,
      "outputs": []
    },
    {
      "cell_type": "markdown",
      "metadata": {
        "id": "JrEvbA5aW_tB",
        "colab_type": "text"
      },
      "source": [
        "\n",
        "\n",
        "---\n",
        "<br><br>\n",
        "\n",
        "## **Jobs stats (last 24h)**"
      ]
    },
    {
      "cell_type": "code",
      "metadata": {
        "id": "wkjEOn0UqRug",
        "colab_type": "code",
        "colab": {}
      },
      "source": [
        "completed_backup_jobs = commcell.job_controller.finished_jobs(limit=1000, job_filter='Backup', job_summary='Full', lookup_time=24)\n",
        "df = pd.DataFrame(columns=['jobid', 'client', 'app_type', 'app_size', 'media_size', 'status'])\n",
        "a = 0\n",
        "for job in completed_backup_jobs:\n",
        "  df.loc[a] = [job, completed_backup_jobs[job]['destinationClient']['clientName'], completed_backup_jobs[job]['appTypeName'], \n",
        "                    completed_backup_jobs[job]['sizeOfApplication']/1024/1024/1024, completed_backup_jobs[job]['sizeOfMediaOnDisk']/1024/1024/1024, \n",
        "                    completed_backup_jobs[job]['status']]\n",
        "  a+=1\n",
        "df_stats = df[['status','jobid']].groupby(['status']).count().reset_index()\n",
        "df_stats.columns = ['Status','Jobs']\n",
        "df_stats"
      ],
      "execution_count": 0,
      "outputs": []
    },
    {
      "cell_type": "markdown",
      "metadata": {
        "id": "ZJubrFAbvnKS",
        "colab_type": "text"
      },
      "source": [
        "\n",
        "\n",
        "---\n",
        "\n",
        "<br><br>\n",
        "## **Media Size per Client (Top 10, last 24h)** "
      ]
    },
    {
      "cell_type": "code",
      "metadata": {
        "id": "RX2tk3WZvnYx",
        "colab_type": "code",
        "colab": {}
      },
      "source": [
        "df_stats = df[['client','media_size']].groupby(['client']).sum().reset_index().sort_values(by=['media_size'], ascending=False)\n",
        "df_stats.columns = ['Client','Media Size (GB)']\n",
        "df_stats.head(10)"
      ],
      "execution_count": 0,
      "outputs": []
    },
    {
      "cell_type": "markdown",
      "metadata": {
        "id": "_BZaUPrCwqvE",
        "colab_type": "text"
      },
      "source": [
        "\n",
        "\n",
        "---\n",
        "<br><br>\n",
        "\n",
        "##**Media Size per Agent (last 24h)**"
      ]
    },
    {
      "cell_type": "code",
      "metadata": {
        "id": "IYDkPJ0bwq2n",
        "colab_type": "code",
        "colab": {}
      },
      "source": [
        "df_stats = df[['app_type','media_size']].groupby(['app_type']).sum().reset_index().sort_values(by=['media_size'], ascending=False)\n",
        "df_stats.columns = ['Application Type','Media Size (GB)']\n",
        "df_stats"
      ],
      "execution_count": 0,
      "outputs": []
    },
    {
      "cell_type": "markdown",
      "metadata": {
        "id": "UyVF4eqe3N0Z",
        "colab_type": "text"
      },
      "source": [
        "\n",
        "\n",
        "---\n",
        "<br><br>\n",
        "## **Properties of randomly selected client**\n"
      ]
    },
    {
      "cell_type": "code",
      "metadata": {
        "id": "t0hQ_uZf3NTa",
        "colab_type": "code",
        "colab": {}
      },
      "source": [
        "cls = list(commcell.clients.all_clients.keys())\n",
        "cltmp = commcell.clients.get(cls[random.randrange(0, len(cls))])\n",
        "table = BeautifulTable(max_width=300)\n",
        "table.column_headers = [\"Client Name\", \"Hostname\", \"Install Dir\", 'Data Management Enabled', 'Recovery Enabled', 'Version', 'Service Pack', 'Installed Agents']\n",
        "table.append_row([cltmp.display_name, cltmp.client_hostname, cltmp.install_directory, cltmp.is_data_management_enabled, cltmp.is_data_recovery_enabled, cltmp.version, cltmp.service_pack, list(cltmp.agents.all_agents.keys())])\n",
        "print(table)\n"
      ],
      "execution_count": 0,
      "outputs": []
    },
    {
      "cell_type": "markdown",
      "metadata": {
        "id": "P7_xqBdtKpcX",
        "colab_type": "text"
      },
      "source": [
        "\n",
        "\n",
        "---\n",
        "<br><br>\n",
        "\n",
        "## **Searching a file in backupset backup content:**"
      ]
    },
    {
      "cell_type": "code",
      "metadata": {
        "id": "dVLO5shPKpjX",
        "colab_type": "code",
        "colab": {}
      },
      "source": [
        "FS_CLIENT = 'sqlec2'\n",
        "FILTER = '*.txt'\n",
        "clfsbs = commcell.clients.get(FS_CLIENT).agents.get('file system').backupsets.get('defaultbackupset')\n",
        "paths, properties = clfsbs.find(file_name=FILTER)\n",
        "print('Found ' + str(len(paths)) + ' ' + FILTER + ' files')\n",
        "print('')\n",
        "print('List of files (first 10):')\n",
        "for ffile in paths[:10]:\n",
        "  print(ffile)"
      ],
      "execution_count": 0,
      "outputs": []
    },
    {
      "cell_type": "code",
      "metadata": {
        "id": "YT-naVc9PcvE",
        "colab_type": "code",
        "colab": {}
      },
      "source": [
        "print('File properties (first file): ' + list(properties.keys())[0])\n",
        "print()\n",
        "properties[list(properties.keys())[0]]"
      ],
      "execution_count": 0,
      "outputs": []
    },
    {
      "cell_type": "markdown",
      "metadata": {
        "id": "B_rD625BU05n",
        "colab_type": "text"
      },
      "source": [
        "\n",
        "\n",
        "---\n",
        "<br><br>\n",
        "## **List of protected VMs at VMware client level**\n"
      ]
    },
    {
      "cell_type": "code",
      "metadata": {
        "id": "ntMbD5BuU0_v",
        "colab_type": "code",
        "colab": {}
      },
      "source": [
        "VSA_CLIENT = 'Vcenter_OnPrem'\n",
        "vsa = commcell.clients.get(VSA_CLIENT).agents.get('virtual server').instances.get('vmware').backupsets.get('defaultbackupset')\n",
        "table = BeautifulTable(max_width=300)\n",
        "table.column_headers = [\"VM Name\", \"Size (GB)\", \"Modified Time\"]\n",
        "ids, vmproperties = vsa.browse()\n",
        "for vm in vmproperties:\n",
        "  table.append_row([vmproperties[vm]['name'], vmproperties[vm]['size']/1024/1024/1024, vmproperties[vm]['modified_time']])\n",
        "\n",
        "print(table)\n",
        "\n"
      ],
      "execution_count": 0,
      "outputs": []
    },
    {
      "cell_type": "markdown",
      "metadata": {
        "id": "Uz83iHNCYaJt",
        "colab_type": "text"
      },
      "source": [
        "\n",
        "\n",
        "---\n",
        "<br><br>\n",
        "## **List of protected databases at MSSQL client level**\n"
      ]
    },
    {
      "cell_type": "code",
      "metadata": {
        "id": "k19ZiQidYaW4",
        "colab_type": "code",
        "colab": {}
      },
      "source": [
        "MSSQL_CLIENT = 'sql1'\n",
        "mssqlbs = commcell.clients.get(MSSQL_CLIENT).agents.get('sql server').instances.get('SQL1\\DEMO2017')\n",
        "table = BeautifulTable(max_width=300)\n",
        "table.column_headers = [\"DB Name\", \"Last Backup Time\"]\n",
        "paths, properties = mssqlbs.browse()\n",
        "for db in properties:\n",
        "  table.append_row([list(db.keys())[0], db[list(db.keys())[0]][0]])\n",
        "\n",
        "print(table)"
      ],
      "execution_count": 0,
      "outputs": []
    },
    {
      "cell_type": "markdown",
      "metadata": {
        "id": "oqx2lt6v8omM",
        "colab_type": "text"
      },
      "source": [
        "\n",
        "\n",
        "---\n",
        "\n",
        "\n",
        "<br><br>\n",
        "## **List of Plans**\n"
      ]
    },
    {
      "cell_type": "code",
      "metadata": {
        "id": "nZB4p19C8mNt",
        "colab_type": "code",
        "colab": {}
      },
      "source": [
        "table = BeautifulTable(max_width=300)\n",
        "table.column_headers = [\"Plan Name\", \"RPO(h)\"]\n",
        "for plan in commcell.plans.all_plans:\n",
        "  plantmp = commcell.plans.get(plan)\n",
        "  table.append_row([plan, plantmp.sla_in_minutes/60])\n",
        "print(table)\n",
        "\n",
        "  \n"
      ],
      "execution_count": 0,
      "outputs": []
    },
    {
      "cell_type": "markdown",
      "metadata": {
        "id": "9g8Lsa5GyFA0",
        "colab_type": "text"
      },
      "source": [
        "\n",
        "\n",
        "---\n",
        "<br><br>\n",
        "## **List of Tenants (Companies)**\n"
      ]
    },
    {
      "cell_type": "code",
      "metadata": {
        "id": "V1Uvc2dpyxU_",
        "colab_type": "code",
        "colab": {}
      },
      "source": [
        "table = BeautifulTable(max_width=300)\n",
        "table.column_headers = [\"Tenant Name\", \"Assigned Plans\", \"Number of Servers\", 'Auto Discovery Enabled', 'Auth Code Enabled', 'Tenant Admin']\n",
        "\n",
        "for org in commcell.organizations.all_organizations:\n",
        "  orgtmp = commcell.organizations.get(org)\n",
        "  table.append_row([org, orgtmp.plans, orgtmp.machine_count, orgtmp.is_auto_discover_enabled, orgtmp.is_auth_code_enabled, orgtmp.contacts])\n",
        "print(table)"
      ],
      "execution_count": 0,
      "outputs": []
    },
    {
      "cell_type": "markdown",
      "metadata": {
        "id": "_InL6vdJQdSJ",
        "colab_type": "text"
      },
      "source": [
        "\n",
        "\n",
        "---\n",
        "<br><br>\n",
        "## **Chargeback Details report - Front End Backup Size (GB)**\n"
      ]
    },
    {
      "cell_type": "code",
      "metadata": {
        "id": "l0yK81BgQda3",
        "colab_type": "code",
        "colab": {}
      },
      "source": [
        "url = 'https://' + WEBCONSOLE_URL + '/adminconsole/api/cr/reportsplusengine/datasets/05ea2bd3-ccc0-414f-aeb8-c594124a6855:15a29162-c36a-4267-8c22-8e454aa05522/data/?cacheId=75a2f1db-8a18-4dea-a827-be1508a8928e&offset=0&isExport=false&componentName=Chargeback Details&parameter.TimeRangeType=2&parameter.TimeRangeStart=2147483647&parameter.SizeUnit=GB&parameter.ExcludeDeconfiguredSubclients=No&parameter.ExcludeBackupDisabledSubclients=No&parameter.datasource=2&limit=10000&rawData=false'\n",
        "payload  = {}\n",
        "authtoken = commcell.auth_token\n",
        "headers = {\n",
        "  'Accept': 'application/json',\n",
        "  'Authtoken': authtoken\n",
        "}\n",
        "\n",
        "response = requests.request(\"GET\", url, headers=headers, data=payload)\n",
        "report_data = response.json()\n",
        "report_data['records']\n",
        "\n",
        "df = pd.DataFrame(columns=['client', 'frontend_backup'])\n",
        "a = 0\n",
        "for cl in report_data['records']:\n",
        "  df.loc[a] = [cl[4], cl[11]]\n",
        "  a+=1\n",
        "df_stats = df.groupby(['client']).sum().reset_index().sort_values(by=['frontend_backup'], ascending=False)\n",
        "df_stats.columns = ['Client','Front End Backup Size (GB)']\n",
        "df_stats.head(30)\n"
      ],
      "execution_count": 0,
      "outputs": []
    },
    {
      "cell_type": "markdown",
      "metadata": {
        "id": "iGRAY9uNXe39",
        "colab_type": "text"
      },
      "source": [
        "\n",
        "\n",
        "---\n",
        "<br><br>\n",
        "## **VM Backup Report**\n"
      ]
    },
    {
      "cell_type": "code",
      "metadata": {
        "id": "t7EK0qR_XfAp",
        "colab_type": "code",
        "colab": {}
      },
      "source": [
        "url = 'https://' + WEBCONSOLE_URL + '/adminconsole/api/cr/reportsplusengine/datasets/D7F9B43F-34A5-45B2-82BA-056EA52FCB77:ae133b83-c1c9-41b1-aa86-f27283e5d633/data/?cacheId=317a9fe9-3062-46bf-907a-9856c436db72&offset=0&isExport=false&componentName=Details&parameter.timerange=All&parameter.LicensingStatus=Off&parameter.datasource=2&limit=200&rawData=false'\n",
        "payload  = {}\n",
        "authtoken = commcell.auth_token\n",
        "headers = {\n",
        "  'Accept': 'application/json',\n",
        "  'Authtoken': authtoken\n",
        "}\n",
        "\n",
        "response = requests.request(\"GET\", url, headers=headers, data=payload)\n",
        "report_data = response.json()\n",
        "df = pd.DataFrame(report_data['records']).loc[:,[3,7,15,18]]\n",
        "df.columns = ['VM', 'Hypervisor', 'Last Successful Backup', 'Backup Size (GB)']\n",
        "df.sort_values(by=['Backup Size (GB)'], ascending=False)"
      ],
      "execution_count": 0,
      "outputs": []
    }
  ]
}